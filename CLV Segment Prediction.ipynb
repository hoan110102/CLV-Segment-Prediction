{
 "cells": [
  {
   "cell_type": "markdown",
   "id": "0a5fb6df-9c16-42d1-a0cf-5cc12af5d40e",
   "metadata": {},
   "source": [
    "# Customer Lifetime Value Segmentation Prediction"
   ]
  },
  {
   "cell_type": "markdown",
   "id": "ba7e3be6-dac7-4876-92f3-03855776c500",
   "metadata": {},
   "source": [
    "Các doanh nghiệp hiện nay đầu tư khá nhiều vào khách hàng (chi phí thu hút, quảng cáo ngoại tuyến, khuyến mãi, giảm giá, v.v.) để tạo doanh thu và sinh lãi. Đương nhiên, những hành động này khiến một số khách hàng trở nên có giá trị xét về mặt giá trị lâu dài nhưng cũng luôn tồn tại một số khách hàng sẽ làm giảm lợi nhuận của doanh nghiệp. Việc xác định những hành vi này, phân khúc khách hàng và hành động phù hợp là điều rất cần thiết với mỗi doanh nghiệp. Trong đó Giá trị vòng đời khách hàng (Customer Lifetime Value) là một trong các chỉ số rất quan trọng cần phải tính đến. CLV thường được tính cho 3, 6, 12, 24 tháng. Có khá nhiều công thức để tính CLV, tuy nhiên tôi sẽ sử dụng công thức như sau để tính CLV trong 1 năm:\n",
    "\n",
    "**Customer Lifetime Value = Giá trị mua hàng trung bình x Số lượng đơn hàng trung bình trong 1 khoảng thời gian x Tỉ suất lợi nhuận gộp x Tuổi thọ trung bình của khách hàng**\n",
    "\n",
    "Để dễ tính toán và giảm độ phức tạp khi thực hiện và do không đủ dữ liệu để tính toán, ta giả định tỉ suất lợi nhuận gộp là 40% (0.4) và tuổi thọ trung bình của khách hàng là 2 năm.\n",
    "\n",
    "Ngoài, phân khúc khách hàng dựa trên CLV có thể dẫn đến sự không công bằng, do đó để đảm bảo việc phân khúc khách hàng đem lại kết quả tin cậy hơn, dự án này sẽ sử dụng kết hợp thêm mô hình RFM (Recency - Frequency - Monetary).\n",
    "\n",
    "Các nhãn sau khi phân khúc sẽ được dùng để đào tạo cho một mô hình máy học nhằm dự đoán phân khúc khách hàng."
   ]
  },
  {
   "cell_type": "markdown",
   "id": "55d07697-5c6f-4aa8-9d0f-db09aa62a9cf",
   "metadata": {},
   "source": [
    "Link dữ liệu: https://www.kaggle.com/datasets/6e895c4ae168b052e85f73997080784443920576cdedf00b11b04fbd478f0e8d"
   ]
  },
  {
   "cell_type": "markdown",
   "id": "b7b08eb7-2389-4932-8daa-c347ad14dd69",
   "metadata": {},
   "source": [
    "**Mô tả về các biến có trong tập dữ liệu**\n",
    "- user_id: Mã id khách hàng\n",
    "- bill_id: Mã id giao dịch\n",
    "- line_item_amount: Giá trị của sản phẩm\n",
    "- bill_discount: Giảm giá\n",
    "- transaction_date: Thời gian giao dịch được thực hiện\n",
    "- description: Mô tả sản phẩm\n",
    "- inventory_category: Danh mục sản phẩm\n",
    "- colour: Màu sắc sản phẩm\n",
    "- size: Kích cỡ sản phẩm\n",
    "- zone_name: Khu vực có cửa hàng đó\n",
    "- store_name: Tên cửa hàng\n",
    "- year: Năm"
   ]
  },
  {
   "cell_type": "code",
   "execution_count": 2,
   "id": "0510afa1-e3d3-462a-8c27-5dd3d46aa32d",
   "metadata": {},
   "outputs": [],
   "source": [
    "# import thư viện\n",
    "import pandas as pd\n",
    "import numpy as np\n",
    "import matplotlib.pyplot as plt\n",
    "import seaborn as sns\n",
    "import datetime as dt\n",
    "\n",
    "%matplotlib inline"
   ]
  },
  {
   "cell_type": "code",
   "execution_count": 3,
   "id": "59b08155-2980-463a-883f-f187b1ef6b4a",
   "metadata": {},
   "outputs": [
    {
     "data": {
      "text/html": [
       "<div>\n",
       "<style scoped>\n",
       "    .dataframe tbody tr th:only-of-type {\n",
       "        vertical-align: middle;\n",
       "    }\n",
       "\n",
       "    .dataframe tbody tr th {\n",
       "        vertical-align: top;\n",
       "    }\n",
       "\n",
       "    .dataframe thead th {\n",
       "        text-align: right;\n",
       "    }\n",
       "</style>\n",
       "<table border=\"1\" class=\"dataframe\">\n",
       "  <thead>\n",
       "    <tr style=\"text-align: right;\">\n",
       "      <th></th>\n",
       "      <th>user_id</th>\n",
       "      <th>bill_id</th>\n",
       "      <th>line_item_amount</th>\n",
       "      <th>bill_discount</th>\n",
       "      <th>transaction_date</th>\n",
       "      <th>description</th>\n",
       "      <th>inventory_category</th>\n",
       "      <th>colour</th>\n",
       "      <th>size</th>\n",
       "      <th>zone_name</th>\n",
       "      <th>store_name</th>\n",
       "      <th>year</th>\n",
       "    </tr>\n",
       "  </thead>\n",
       "  <tbody>\n",
       "    <tr>\n",
       "      <th>0</th>\n",
       "      <td>519644808</td>\n",
       "      <td>741961800</td>\n",
       "      <td>559.6</td>\n",
       "      <td>0.0</td>\n",
       "      <td>2022-04-20</td>\n",
       "      <td>MBL ITA16BLT004 Regular Casual Tan 32</td>\n",
       "      <td>MENS BELT</td>\n",
       "      <td>Tan</td>\n",
       "      <td>32</td>\n",
       "      <td>North</td>\n",
       "      <td>North_6023</td>\n",
       "      <td>2022</td>\n",
       "    </tr>\n",
       "    <tr>\n",
       "      <th>1</th>\n",
       "      <td>519644808</td>\n",
       "      <td>741961800</td>\n",
       "      <td>559.6</td>\n",
       "      <td>0.0</td>\n",
       "      <td>2022-04-20</td>\n",
       "      <td>MBL ITA16BLT004 Regular Casual Tan 32</td>\n",
       "      <td>MENS BELT</td>\n",
       "      <td>Tan</td>\n",
       "      <td>32</td>\n",
       "      <td>North</td>\n",
       "      <td>North_6023</td>\n",
       "      <td>2022</td>\n",
       "    </tr>\n",
       "    <tr>\n",
       "      <th>2</th>\n",
       "      <td>504795522</td>\n",
       "      <td>692673877</td>\n",
       "      <td>699.5</td>\n",
       "      <td>0.0</td>\n",
       "      <td>2022-01-27</td>\n",
       "      <td>MBL ITA16BLT004 Regular Casual Tan 34</td>\n",
       "      <td>MENS BELT</td>\n",
       "      <td>Tan</td>\n",
       "      <td>34</td>\n",
       "      <td>East</td>\n",
       "      <td>East_6510</td>\n",
       "      <td>2022</td>\n",
       "    </tr>\n",
       "    <tr>\n",
       "      <th>3</th>\n",
       "      <td>12626591</td>\n",
       "      <td>768369011</td>\n",
       "      <td>519.6</td>\n",
       "      <td>0.0</td>\n",
       "      <td>2022-10-09</td>\n",
       "      <td>MBL ITA16BLT001 Regular Casual Dark Brown 32</td>\n",
       "      <td>MENS BELT</td>\n",
       "      <td>Dark Brown</td>\n",
       "      <td>32</td>\n",
       "      <td>South</td>\n",
       "      <td>South_6017</td>\n",
       "      <td>2022</td>\n",
       "    </tr>\n",
       "    <tr>\n",
       "      <th>4</th>\n",
       "      <td>12626591</td>\n",
       "      <td>768369011</td>\n",
       "      <td>519.6</td>\n",
       "      <td>0.0</td>\n",
       "      <td>2022-10-09</td>\n",
       "      <td>MBL ITA16BLT001 Regular Casual Dark Brown 32</td>\n",
       "      <td>MENS BELT</td>\n",
       "      <td>Dark Brown</td>\n",
       "      <td>32</td>\n",
       "      <td>South</td>\n",
       "      <td>South_6017</td>\n",
       "      <td>2022</td>\n",
       "    </tr>\n",
       "  </tbody>\n",
       "</table>\n",
       "</div>"
      ],
      "text/plain": [
       "     user_id    bill_id  line_item_amount  bill_discount transaction_date  \\\n",
       "0  519644808  741961800             559.6            0.0       2022-04-20   \n",
       "1  519644808  741961800             559.6            0.0       2022-04-20   \n",
       "2  504795522  692673877             699.5            0.0       2022-01-27   \n",
       "3   12626591  768369011             519.6            0.0       2022-10-09   \n",
       "4   12626591  768369011             519.6            0.0       2022-10-09   \n",
       "\n",
       "                                    description inventory_category  \\\n",
       "0         MBL ITA16BLT004 Regular Casual Tan 32          MENS BELT   \n",
       "1         MBL ITA16BLT004 Regular Casual Tan 32          MENS BELT   \n",
       "2         MBL ITA16BLT004 Regular Casual Tan 34          MENS BELT   \n",
       "3  MBL ITA16BLT001 Regular Casual Dark Brown 32          MENS BELT   \n",
       "4  MBL ITA16BLT001 Regular Casual Dark Brown 32          MENS BELT   \n",
       "\n",
       "       colour size zone_name  store_name  year  \n",
       "0         Tan   32     North  North_6023  2022  \n",
       "1         Tan   32     North  North_6023  2022  \n",
       "2         Tan   34      East   East_6510  2022  \n",
       "3  Dark Brown   32     South  South_6017  2022  \n",
       "4  Dark Brown   32     South  South_6017  2022  "
      ]
     },
     "execution_count": 3,
     "metadata": {},
     "output_type": "execute_result"
    }
   ],
   "source": [
    "# Load dữ liệu\n",
    "df=pd.read_csv('data_2022.csv')\n",
    "df.head()"
   ]
  },
  {
   "cell_type": "markdown",
   "id": "8c1c5e10-21a4-402c-8a96-1140ff057b4b",
   "metadata": {},
   "source": [
    "## Khám phá dữ liệu - EDA"
   ]
  },
  {
   "cell_type": "code",
   "execution_count": 4,
   "id": "a40da3a2-6c25-4e66-8bb7-53efb7ad9c0c",
   "metadata": {},
   "outputs": [
    {
     "name": "stdout",
     "output_type": "stream",
     "text": [
      "<class 'pandas.core.frame.DataFrame'>\n",
      "RangeIndex: 2534161 entries, 0 to 2534160\n",
      "Data columns (total 12 columns):\n",
      " #   Column              Non-Null Count    Dtype  \n",
      "---  ------              --------------    -----  \n",
      " 0   user_id             2534161 non-null  int64  \n",
      " 1   bill_id             2534161 non-null  int64  \n",
      " 2   line_item_amount    2534161 non-null  float64\n",
      " 3   bill_discount       2534161 non-null  float64\n",
      " 4   transaction_date    2534161 non-null  object \n",
      " 5   description         2534157 non-null  object \n",
      " 6   inventory_category  2325904 non-null  object \n",
      " 7   colour              2518848 non-null  object \n",
      " 8   size                2518848 non-null  object \n",
      " 9   zone_name           2534161 non-null  object \n",
      " 10  store_name          2534161 non-null  object \n",
      " 11  year                2534161 non-null  int64  \n",
      "dtypes: float64(2), int64(3), object(7)\n",
      "memory usage: 232.0+ MB\n"
     ]
    }
   ],
   "source": [
    "#Thông tin các cột \n",
    "df.info(show_counts=True)"
   ]
  },
  {
   "cell_type": "code",
   "execution_count": 5,
   "id": "789664db-e6f2-4286-b700-0f35a97625b6",
   "metadata": {},
   "outputs": [
    {
     "data": {
      "text/plain": [
       "user_id                    0\n",
       "bill_id                    0\n",
       "line_item_amount           0\n",
       "bill_discount              0\n",
       "transaction_date           0\n",
       "description                4\n",
       "inventory_category    208257\n",
       "colour                 15313\n",
       "size                   15313\n",
       "zone_name                  0\n",
       "store_name                 0\n",
       "year                       0\n",
       "dtype: int64"
      ]
     },
     "execution_count": 5,
     "metadata": {},
     "output_type": "execute_result"
    }
   ],
   "source": [
    "# Check missing values\n",
    "df.isnull().sum()"
   ]
  },
  {
   "cell_type": "markdown",
   "id": "61444f96-fd03-4bff-a5bb-3449c432b25e",
   "metadata": {},
   "source": [
    "Do các giá trị null nằm chủ chủ yếu ở các cột object nên sẽ sử dụng điền giá trọ 'Unknown' cho các ô đó"
   ]
  },
  {
   "cell_type": "code",
   "execution_count": 6,
   "id": "f78e7d8c-7dee-4ee1-9dd7-ac349b1db77f",
   "metadata": {},
   "outputs": [
    {
     "data": {
      "text/html": [
       "<div>\n",
       "<style scoped>\n",
       "    .dataframe tbody tr th:only-of-type {\n",
       "        vertical-align: middle;\n",
       "    }\n",
       "\n",
       "    .dataframe tbody tr th {\n",
       "        vertical-align: top;\n",
       "    }\n",
       "\n",
       "    .dataframe thead th {\n",
       "        text-align: right;\n",
       "    }\n",
       "</style>\n",
       "<table border=\"1\" class=\"dataframe\">\n",
       "  <thead>\n",
       "    <tr style=\"text-align: right;\">\n",
       "      <th></th>\n",
       "      <th>user_id</th>\n",
       "      <th>bill_id</th>\n",
       "      <th>line_item_amount</th>\n",
       "      <th>bill_discount</th>\n",
       "      <th>year</th>\n",
       "    </tr>\n",
       "  </thead>\n",
       "  <tbody>\n",
       "    <tr>\n",
       "      <th>count</th>\n",
       "      <td>2.534161e+06</td>\n",
       "      <td>2.534161e+06</td>\n",
       "      <td>2.534161e+06</td>\n",
       "      <td>2.534161e+06</td>\n",
       "      <td>2534161.0</td>\n",
       "    </tr>\n",
       "    <tr>\n",
       "      <th>mean</th>\n",
       "      <td>4.440553e+08</td>\n",
       "      <td>7.435790e+08</td>\n",
       "      <td>1.341307e+03</td>\n",
       "      <td>1.320322e+02</td>\n",
       "      <td>2022.0</td>\n",
       "    </tr>\n",
       "    <tr>\n",
       "      <th>std</th>\n",
       "      <td>1.158280e+08</td>\n",
       "      <td>3.113770e+07</td>\n",
       "      <td>9.856585e+02</td>\n",
       "      <td>7.544642e+02</td>\n",
       "      <td>0.0</td>\n",
       "    </tr>\n",
       "    <tr>\n",
       "      <th>min</th>\n",
       "      <td>5.004900e+04</td>\n",
       "      <td>6.835057e+08</td>\n",
       "      <td>0.000000e+00</td>\n",
       "      <td>0.000000e+00</td>\n",
       "      <td>2022.0</td>\n",
       "    </tr>\n",
       "    <tr>\n",
       "      <th>25%</th>\n",
       "      <td>4.054491e+08</td>\n",
       "      <td>7.204882e+08</td>\n",
       "      <td>6.001548e+02</td>\n",
       "      <td>0.000000e+00</td>\n",
       "      <td>2022.0</td>\n",
       "    </tr>\n",
       "    <tr>\n",
       "      <th>50%</th>\n",
       "      <td>4.955304e+08</td>\n",
       "      <td>7.452438e+08</td>\n",
       "      <td>1.337060e+03</td>\n",
       "      <td>0.000000e+00</td>\n",
       "      <td>2022.0</td>\n",
       "    </tr>\n",
       "    <tr>\n",
       "      <th>75%</th>\n",
       "      <td>5.185644e+08</td>\n",
       "      <td>7.694484e+08</td>\n",
       "      <td>2.051461e+03</td>\n",
       "      <td>0.000000e+00</td>\n",
       "      <td>2022.0</td>\n",
       "    </tr>\n",
       "    <tr>\n",
       "      <th>max</th>\n",
       "      <td>5.359105e+08</td>\n",
       "      <td>8.037268e+08</td>\n",
       "      <td>1.141992e+05</td>\n",
       "      <td>5.331570e+04</td>\n",
       "      <td>2022.0</td>\n",
       "    </tr>\n",
       "  </tbody>\n",
       "</table>\n",
       "</div>"
      ],
      "text/plain": [
       "            user_id       bill_id  line_item_amount  bill_discount       year\n",
       "count  2.534161e+06  2.534161e+06      2.534161e+06   2.534161e+06  2534161.0\n",
       "mean   4.440553e+08  7.435790e+08      1.341307e+03   1.320322e+02     2022.0\n",
       "std    1.158280e+08  3.113770e+07      9.856585e+02   7.544642e+02        0.0\n",
       "min    5.004900e+04  6.835057e+08      0.000000e+00   0.000000e+00     2022.0\n",
       "25%    4.054491e+08  7.204882e+08      6.001548e+02   0.000000e+00     2022.0\n",
       "50%    4.955304e+08  7.452438e+08      1.337060e+03   0.000000e+00     2022.0\n",
       "75%    5.185644e+08  7.694484e+08      2.051461e+03   0.000000e+00     2022.0\n",
       "max    5.359105e+08  8.037268e+08      1.141992e+05   5.331570e+04     2022.0"
      ]
     },
     "execution_count": 6,
     "metadata": {},
     "output_type": "execute_result"
    }
   ],
   "source": [
    "df.describe()"
   ]
  },
  {
   "cell_type": "code",
   "execution_count": 7,
   "id": "06e77c14-5948-48b6-b919-a491258df194",
   "metadata": {},
   "outputs": [],
   "source": [
    "# Điền giá trị 'Unknown' cho dữ liệu bị thiếu\n",
    "df.fillna(value='Unknown', inplace=True)"
   ]
  },
  {
   "cell_type": "code",
   "execution_count": 8,
   "id": "23286f96-6a61-4113-b34e-e08470a17cdb",
   "metadata": {},
   "outputs": [
    {
     "data": {
      "text/plain": [
       "558608"
      ]
     },
     "execution_count": 8,
     "metadata": {},
     "output_type": "execute_result"
    }
   ],
   "source": [
    "# Đếm số dòng bị trùng lặp\n",
    "df.duplicated().sum()"
   ]
  },
  {
   "cell_type": "markdown",
   "id": "2f51d864-d0bc-4295-857b-1f0ec33853a7",
   "metadata": {},
   "source": [
    "Trong trường hợp này, có khá nhiều dòng bị lặp, ta sẽ coi line_item_amount là đơn giá của một sản phẩm, mỗi dòng sẽ là 1 sản phẩm. Để tránh bị lặp, ta sẽ tạo thêm 1 cột để đếm số lượng dòng giống nhau và coi đó là số lượng của 1 sản phẩm trong 1 bill_id.\n",
    "\n",
    "Số dòng còn lại sau khi trừ đi các dòng bị lặp: 2.534.161 - 558.608 = 1.975.553 dòng"
   ]
  },
  {
   "cell_type": "code",
   "execution_count": 9,
   "id": "589216be-f282-4ba6-94f2-d09ab5d6056b",
   "metadata": {},
   "outputs": [
    {
     "data": {
      "text/html": [
       "<div>\n",
       "<style scoped>\n",
       "    .dataframe tbody tr th:only-of-type {\n",
       "        vertical-align: middle;\n",
       "    }\n",
       "\n",
       "    .dataframe tbody tr th {\n",
       "        vertical-align: top;\n",
       "    }\n",
       "\n",
       "    .dataframe thead th {\n",
       "        text-align: right;\n",
       "    }\n",
       "</style>\n",
       "<table border=\"1\" class=\"dataframe\">\n",
       "  <thead>\n",
       "    <tr style=\"text-align: right;\">\n",
       "      <th></th>\n",
       "      <th>user_id</th>\n",
       "      <th>bill_id</th>\n",
       "      <th>line_item_amount</th>\n",
       "      <th>bill_discount</th>\n",
       "      <th>transaction_date</th>\n",
       "      <th>description</th>\n",
       "      <th>inventory_category</th>\n",
       "      <th>colour</th>\n",
       "      <th>size</th>\n",
       "      <th>zone_name</th>\n",
       "      <th>store_name</th>\n",
       "      <th>quantity</th>\n",
       "    </tr>\n",
       "  </thead>\n",
       "  <tbody>\n",
       "    <tr>\n",
       "      <th>0</th>\n",
       "      <td>50049</td>\n",
       "      <td>734759982</td>\n",
       "      <td>5.0000</td>\n",
       "      <td>0.0</td>\n",
       "      <td>2022-03-05</td>\n",
       "      <td>CBG ITCBR00001 NA NA WHITE 12X4X16</td>\n",
       "      <td>CBG ITCBR00001 NA NA White 12x4x16``</td>\n",
       "      <td>NOT-CAPTURED</td>\n",
       "      <td>NOT-CAPTURED</td>\n",
       "      <td>South</td>\n",
       "      <td>South_6018</td>\n",
       "      <td>1</td>\n",
       "    </tr>\n",
       "    <tr>\n",
       "      <th>1</th>\n",
       "      <td>50049</td>\n",
       "      <td>734759982</td>\n",
       "      <td>922.5760</td>\n",
       "      <td>0.0</td>\n",
       "      <td>2022-03-05</td>\n",
       "      <td>MSH ITMSH03176 SLIM LS White M</td>\n",
       "      <td>Unknown</td>\n",
       "      <td>White</td>\n",
       "      <td>M</td>\n",
       "      <td>South</td>\n",
       "      <td>South_6018</td>\n",
       "      <td>1</td>\n",
       "    </tr>\n",
       "    <tr>\n",
       "      <th>2</th>\n",
       "      <td>50049</td>\n",
       "      <td>734759982</td>\n",
       "      <td>1025.1414</td>\n",
       "      <td>0.0</td>\n",
       "      <td>2022-03-05</td>\n",
       "      <td>MSH ITMSH01808 Slim LS Pale Blue M</td>\n",
       "      <td>MSH ITMSH01808 Slim LS Pale Blue M</td>\n",
       "      <td>Pale Blue</td>\n",
       "      <td>M</td>\n",
       "      <td>South</td>\n",
       "      <td>South_6018</td>\n",
       "      <td>1</td>\n",
       "    </tr>\n",
       "    <tr>\n",
       "      <th>3</th>\n",
       "      <td>50049</td>\n",
       "      <td>734759982</td>\n",
       "      <td>1025.1414</td>\n",
       "      <td>0.0</td>\n",
       "      <td>2022-03-05</td>\n",
       "      <td>MSH ITMSH02012 Slim LS Aqua M</td>\n",
       "      <td>MSH ITMSH02012 Slim LS Aqua M</td>\n",
       "      <td>Aqua</td>\n",
       "      <td>M</td>\n",
       "      <td>South</td>\n",
       "      <td>South_6018</td>\n",
       "      <td>1</td>\n",
       "    </tr>\n",
       "    <tr>\n",
       "      <th>4</th>\n",
       "      <td>50049</td>\n",
       "      <td>734759982</td>\n",
       "      <td>1025.1414</td>\n",
       "      <td>0.0</td>\n",
       "      <td>2022-03-05</td>\n",
       "      <td>MTR ITMTR00694 Kruger FF Dark Grey 34</td>\n",
       "      <td>MTR ITMTR00694 Kruger FF Dark Grey 34</td>\n",
       "      <td>Dark Grey</td>\n",
       "      <td>34</td>\n",
       "      <td>South</td>\n",
       "      <td>South_6018</td>\n",
       "      <td>1</td>\n",
       "    </tr>\n",
       "    <tr>\n",
       "      <th>...</th>\n",
       "      <td>...</td>\n",
       "      <td>...</td>\n",
       "      <td>...</td>\n",
       "      <td>...</td>\n",
       "      <td>...</td>\n",
       "      <td>...</td>\n",
       "      <td>...</td>\n",
       "      <td>...</td>\n",
       "      <td>...</td>\n",
       "      <td>...</td>\n",
       "      <td>...</td>\n",
       "      <td>...</td>\n",
       "    </tr>\n",
       "    <tr>\n",
       "      <th>1975548</th>\n",
       "      <td>535910455</td>\n",
       "      <td>797262071</td>\n",
       "      <td>2899.0000</td>\n",
       "      <td>1800.0</td>\n",
       "      <td>2022-05-12</td>\n",
       "      <td>MTR ITMTR00608 Brooklyn FF Olive 34</td>\n",
       "      <td>MTR ITMTR00608 Brooklyn FF Olive 34</td>\n",
       "      <td>Olive</td>\n",
       "      <td>34</td>\n",
       "      <td>East</td>\n",
       "      <td>East_7443</td>\n",
       "      <td>1</td>\n",
       "    </tr>\n",
       "    <tr>\n",
       "      <th>1975549</th>\n",
       "      <td>535910458</td>\n",
       "      <td>797262080</td>\n",
       "      <td>1129.9261</td>\n",
       "      <td>3998.0</td>\n",
       "      <td>2022-07-31</td>\n",
       "      <td>MTR ITMTR00695 Brooklyn FF Beige 28</td>\n",
       "      <td>Unknown</td>\n",
       "      <td>Beige</td>\n",
       "      <td>28</td>\n",
       "      <td>East</td>\n",
       "      <td>East_7443</td>\n",
       "      <td>1</td>\n",
       "    </tr>\n",
       "    <tr>\n",
       "      <th>1975550</th>\n",
       "      <td>535910458</td>\n",
       "      <td>797262080</td>\n",
       "      <td>1129.9261</td>\n",
       "      <td>3998.0</td>\n",
       "      <td>2022-07-31</td>\n",
       "      <td>MTR ITMTR00695 Brooklyn FF Dark Grey 28</td>\n",
       "      <td>Unknown</td>\n",
       "      <td>Dark Grey</td>\n",
       "      <td>28</td>\n",
       "      <td>East</td>\n",
       "      <td>East_7443</td>\n",
       "      <td>1</td>\n",
       "    </tr>\n",
       "    <tr>\n",
       "      <th>1975551</th>\n",
       "      <td>535910458</td>\n",
       "      <td>797262080</td>\n",
       "      <td>1469.0737</td>\n",
       "      <td>3998.0</td>\n",
       "      <td>2022-07-31</td>\n",
       "      <td>MTR ITMTR00736 Brooklyn FF Navy 28</td>\n",
       "      <td>MTR ITMTR00736 Brooklyn FF Navy 28</td>\n",
       "      <td>NOT-CAPTURED</td>\n",
       "      <td>NOT-CAPTURED</td>\n",
       "      <td>East</td>\n",
       "      <td>East_7443</td>\n",
       "      <td>1</td>\n",
       "    </tr>\n",
       "    <tr>\n",
       "      <th>1975552</th>\n",
       "      <td>535910458</td>\n",
       "      <td>797262080</td>\n",
       "      <td>1469.0737</td>\n",
       "      <td>3998.0</td>\n",
       "      <td>2022-07-31</td>\n",
       "      <td>MTR ITMTR00836 Brooklyn FF Tan 28</td>\n",
       "      <td>MTR ITMTR00836 Brooklyn FF Tan 28</td>\n",
       "      <td>NOT-CAPTURED</td>\n",
       "      <td>NOT-CAPTURED</td>\n",
       "      <td>East</td>\n",
       "      <td>East_7443</td>\n",
       "      <td>1</td>\n",
       "    </tr>\n",
       "  </tbody>\n",
       "</table>\n",
       "<p>1975553 rows × 12 columns</p>\n",
       "</div>"
      ],
      "text/plain": [
       "           user_id    bill_id  line_item_amount  bill_discount  \\\n",
       "0            50049  734759982            5.0000            0.0   \n",
       "1            50049  734759982          922.5760            0.0   \n",
       "2            50049  734759982         1025.1414            0.0   \n",
       "3            50049  734759982         1025.1414            0.0   \n",
       "4            50049  734759982         1025.1414            0.0   \n",
       "...            ...        ...               ...            ...   \n",
       "1975548  535910455  797262071         2899.0000         1800.0   \n",
       "1975549  535910458  797262080         1129.9261         3998.0   \n",
       "1975550  535910458  797262080         1129.9261         3998.0   \n",
       "1975551  535910458  797262080         1469.0737         3998.0   \n",
       "1975552  535910458  797262080         1469.0737         3998.0   \n",
       "\n",
       "        transaction_date                              description  \\\n",
       "0             2022-03-05       CBG ITCBR00001 NA NA WHITE 12X4X16   \n",
       "1             2022-03-05           MSH ITMSH03176 SLIM LS White M   \n",
       "2             2022-03-05       MSH ITMSH01808 Slim LS Pale Blue M   \n",
       "3             2022-03-05            MSH ITMSH02012 Slim LS Aqua M   \n",
       "4             2022-03-05    MTR ITMTR00694 Kruger FF Dark Grey 34   \n",
       "...                  ...                                      ...   \n",
       "1975548       2022-05-12      MTR ITMTR00608 Brooklyn FF Olive 34   \n",
       "1975549       2022-07-31      MTR ITMTR00695 Brooklyn FF Beige 28   \n",
       "1975550       2022-07-31  MTR ITMTR00695 Brooklyn FF Dark Grey 28   \n",
       "1975551       2022-07-31       MTR ITMTR00736 Brooklyn FF Navy 28   \n",
       "1975552       2022-07-31        MTR ITMTR00836 Brooklyn FF Tan 28   \n",
       "\n",
       "                            inventory_category        colour          size  \\\n",
       "0         CBG ITCBR00001 NA NA White 12x4x16``  NOT-CAPTURED  NOT-CAPTURED   \n",
       "1                                      Unknown         White             M   \n",
       "2           MSH ITMSH01808 Slim LS Pale Blue M     Pale Blue             M   \n",
       "3                MSH ITMSH02012 Slim LS Aqua M          Aqua             M   \n",
       "4        MTR ITMTR00694 Kruger FF Dark Grey 34     Dark Grey            34   \n",
       "...                                        ...           ...           ...   \n",
       "1975548    MTR ITMTR00608 Brooklyn FF Olive 34         Olive            34   \n",
       "1975549                                Unknown         Beige            28   \n",
       "1975550                                Unknown     Dark Grey            28   \n",
       "1975551     MTR ITMTR00736 Brooklyn FF Navy 28  NOT-CAPTURED  NOT-CAPTURED   \n",
       "1975552      MTR ITMTR00836 Brooklyn FF Tan 28  NOT-CAPTURED  NOT-CAPTURED   \n",
       "\n",
       "        zone_name  store_name  quantity  \n",
       "0           South  South_6018         1  \n",
       "1           South  South_6018         1  \n",
       "2           South  South_6018         1  \n",
       "3           South  South_6018         1  \n",
       "4           South  South_6018         1  \n",
       "...           ...         ...       ...  \n",
       "1975548      East   East_7443         1  \n",
       "1975549      East   East_7443         1  \n",
       "1975550      East   East_7443         1  \n",
       "1975551      East   East_7443         1  \n",
       "1975552      East   East_7443         1  \n",
       "\n",
       "[1975553 rows x 12 columns]"
      ]
     },
     "execution_count": 9,
     "metadata": {},
     "output_type": "execute_result"
    }
   ],
   "source": [
    "# Gộp các dòng bị trùng lặp và điền số lượng trùng lặp vào cột quantity\n",
    "df_grouped = df.groupby(['user_id','bill_id', 'line_item_amount','bill_discount',\n",
    "                           'transaction_date', 'description', 'inventory_category',\n",
    "                           'colour', 'size', 'zone_name', 'store_name']).size().reset_index(name='quantity')\n",
    "df_grouped"
   ]
  },
  {
   "cell_type": "code",
   "execution_count": 10,
   "id": "1ef1ee9a-b4da-4e14-b07d-09557abc1b23",
   "metadata": {},
   "outputs": [
    {
     "data": {
      "text/html": [
       "<div>\n",
       "<style scoped>\n",
       "    .dataframe tbody tr th:only-of-type {\n",
       "        vertical-align: middle;\n",
       "    }\n",
       "\n",
       "    .dataframe tbody tr th {\n",
       "        vertical-align: top;\n",
       "    }\n",
       "\n",
       "    .dataframe thead th {\n",
       "        text-align: right;\n",
       "    }\n",
       "</style>\n",
       "<table border=\"1\" class=\"dataframe\">\n",
       "  <thead>\n",
       "    <tr style=\"text-align: right;\">\n",
       "      <th></th>\n",
       "      <th>user_id</th>\n",
       "      <th>bill_id</th>\n",
       "      <th>line_item_amount</th>\n",
       "      <th>transaction_date</th>\n",
       "      <th>quantity</th>\n",
       "    </tr>\n",
       "  </thead>\n",
       "  <tbody>\n",
       "    <tr>\n",
       "      <th>0</th>\n",
       "      <td>50049</td>\n",
       "      <td>734759982</td>\n",
       "      <td>5.0000</td>\n",
       "      <td>2022-03-05</td>\n",
       "      <td>1</td>\n",
       "    </tr>\n",
       "    <tr>\n",
       "      <th>1</th>\n",
       "      <td>50049</td>\n",
       "      <td>734759982</td>\n",
       "      <td>922.5760</td>\n",
       "      <td>2022-03-05</td>\n",
       "      <td>1</td>\n",
       "    </tr>\n",
       "    <tr>\n",
       "      <th>2</th>\n",
       "      <td>50049</td>\n",
       "      <td>734759982</td>\n",
       "      <td>1025.1414</td>\n",
       "      <td>2022-03-05</td>\n",
       "      <td>1</td>\n",
       "    </tr>\n",
       "    <tr>\n",
       "      <th>3</th>\n",
       "      <td>50049</td>\n",
       "      <td>734759982</td>\n",
       "      <td>1025.1414</td>\n",
       "      <td>2022-03-05</td>\n",
       "      <td>1</td>\n",
       "    </tr>\n",
       "    <tr>\n",
       "      <th>4</th>\n",
       "      <td>50049</td>\n",
       "      <td>734759982</td>\n",
       "      <td>1025.1414</td>\n",
       "      <td>2022-03-05</td>\n",
       "      <td>1</td>\n",
       "    </tr>\n",
       "  </tbody>\n",
       "</table>\n",
       "</div>"
      ],
      "text/plain": [
       "   user_id    bill_id  line_item_amount transaction_date  quantity\n",
       "0    50049  734759982            5.0000       2022-03-05         1\n",
       "1    50049  734759982          922.5760       2022-03-05         1\n",
       "2    50049  734759982         1025.1414       2022-03-05         1\n",
       "3    50049  734759982         1025.1414       2022-03-05         1\n",
       "4    50049  734759982         1025.1414       2022-03-05         1"
      ]
     },
     "execution_count": 10,
     "metadata": {},
     "output_type": "execute_result"
    }
   ],
   "source": [
    "# Xóa các cột không cần thiết\n",
    "data=df_grouped.drop(columns=['bill_discount', 'description', 'inventory_category', 'colour', 'size', 'zone_name', 'store_name'])\n",
    "data.head()"
   ]
  },
  {
   "cell_type": "markdown",
   "id": "745054cc-1f0a-4c39-9af9-e4b212ccd047",
   "metadata": {},
   "source": [
    "## Thực hiện tính toán"
   ]
  },
  {
   "cell_type": "markdown",
   "id": "21e241ff-56c7-4d99-ad63-5240e0eabd6c",
   "metadata": {},
   "source": [
    "### 1. Tính RFM"
   ]
  },
  {
   "cell_type": "markdown",
   "id": "b6df9433-103a-4113-9127-fd37c5c0448e",
   "metadata": {},
   "source": [
    "#### 1.1. Recency"
   ]
  },
  {
   "cell_type": "markdown",
   "id": "8b26542c-dbe8-4f04-9c63-a21db13a4c52",
   "metadata": {},
   "source": [
    "**Recency:** là khoảng thời gian giữa lần giao dịch gần nhất tới thời điểm hiện tại của khách hàng. Khoảng thời gian này càng lớn thì khách hàng càng có khả năng rời bỏ cao, đồng nghĩa với việc cửa hàng sẽ tốn thời gian vào việc chăm sóc và thuyết phục họ mua lại. Ngược lại khoảng thời gian này càng nhỏ thì khả năng tiếp cận sẽ càng cao."
   ]
  },
  {
   "cell_type": "code",
   "execution_count": 11,
   "id": "8fa9c3ac-50d2-47fc-806f-10f9bd223cde",
   "metadata": {},
   "outputs": [],
   "source": [
    "# Xử lý cột transaction_date\n",
    "data['transaction_date']=pd.to_datetime(df['transaction_date'])"
   ]
  },
  {
   "cell_type": "code",
   "execution_count": 26,
   "id": "4f4cd3c6-97c5-45fe-ba23-ddd75cd889dc",
   "metadata": {},
   "outputs": [
    {
     "data": {
      "text/html": [
       "<div>\n",
       "<style scoped>\n",
       "    .dataframe tbody tr th:only-of-type {\n",
       "        vertical-align: middle;\n",
       "    }\n",
       "\n",
       "    .dataframe tbody tr th {\n",
       "        vertical-align: top;\n",
       "    }\n",
       "\n",
       "    .dataframe thead th {\n",
       "        text-align: right;\n",
       "    }\n",
       "</style>\n",
       "<table border=\"1\" class=\"dataframe\">\n",
       "  <thead>\n",
       "    <tr style=\"text-align: right;\">\n",
       "      <th></th>\n",
       "      <th>user_id</th>\n",
       "      <th>last_purchase_date</th>\n",
       "      <th>recency</th>\n",
       "    </tr>\n",
       "  </thead>\n",
       "  <tbody>\n",
       "    <tr>\n",
       "      <th>0</th>\n",
       "      <td>50049</td>\n",
       "      <td>2022-10-09</td>\n",
       "      <td>83</td>\n",
       "    </tr>\n",
       "    <tr>\n",
       "      <th>1</th>\n",
       "      <td>50511</td>\n",
       "      <td>2022-11-10</td>\n",
       "      <td>51</td>\n",
       "    </tr>\n",
       "    <tr>\n",
       "      <th>2</th>\n",
       "      <td>50565</td>\n",
       "      <td>2022-12-31</td>\n",
       "      <td>0</td>\n",
       "    </tr>\n",
       "    <tr>\n",
       "      <th>3</th>\n",
       "      <td>53796</td>\n",
       "      <td>2022-05-23</td>\n",
       "      <td>222</td>\n",
       "    </tr>\n",
       "    <tr>\n",
       "      <th>4</th>\n",
       "      <td>54143</td>\n",
       "      <td>2022-08-31</td>\n",
       "      <td>122</td>\n",
       "    </tr>\n",
       "  </tbody>\n",
       "</table>\n",
       "</div>"
      ],
      "text/plain": [
       "   user_id last_purchase_date  recency\n",
       "0    50049         2022-10-09       83\n",
       "1    50511         2022-11-10       51\n",
       "2    50565         2022-12-31        0\n",
       "3    53796         2022-05-23      222\n",
       "4    54143         2022-08-31      122"
      ]
     },
     "execution_count": 26,
     "metadata": {},
     "output_type": "execute_result"
    }
   ],
   "source": [
    "# Tính ngày cuối cùng mua hàng của mỗi khách hàng\n",
    "data_recency=data.groupby('user_id').agg(last_purchase_date=('transaction_date', 'max')).reset_index()\n",
    "\n",
    "# Tính số ngày kể từ lần cuối khách hàng mua hàng (Mốc thời gian để tính Recency là 31/12/2022)\n",
    "data_recency['recency']=(dt.datetime(2022, 12, 31)-data_recency.last_purchase_date).dt.days\n",
    "\n",
    "data_recency.head()"
   ]
  },
  {
   "cell_type": "markdown",
   "id": "967b887c-09e7-40cf-ad2a-82c4c0ba76b7",
   "metadata": {},
   "source": [
    "#### 1.2. Frequency"
   ]
  },
  {
   "cell_type": "markdown",
   "id": "2dc1e950-5a38-4e69-bc32-0c9b5b79d607",
   "metadata": {},
   "source": [
    "**Frequency:** là tần suất mua hàng của khách hàng. Khách hàng mua hàng càng nhiều thường có khả năng phản hồi lại với các chiến dịch tiếp thị của cửa hàng và dễ trở thành khách hàng trung thành."
   ]
  },
  {
   "cell_type": "code",
   "execution_count": 13,
   "id": "af87ec98-def5-4a01-b09e-1b57d1c3611e",
   "metadata": {},
   "outputs": [
    {
     "data": {
      "text/html": [
       "<div>\n",
       "<style scoped>\n",
       "    .dataframe tbody tr th:only-of-type {\n",
       "        vertical-align: middle;\n",
       "    }\n",
       "\n",
       "    .dataframe tbody tr th {\n",
       "        vertical-align: top;\n",
       "    }\n",
       "\n",
       "    .dataframe thead th {\n",
       "        text-align: right;\n",
       "    }\n",
       "</style>\n",
       "<table border=\"1\" class=\"dataframe\">\n",
       "  <thead>\n",
       "    <tr style=\"text-align: right;\">\n",
       "      <th></th>\n",
       "      <th>user_id</th>\n",
       "      <th>frequency</th>\n",
       "    </tr>\n",
       "  </thead>\n",
       "  <tbody>\n",
       "    <tr>\n",
       "      <th>0</th>\n",
       "      <td>50049</td>\n",
       "      <td>10</td>\n",
       "    </tr>\n",
       "    <tr>\n",
       "      <th>1</th>\n",
       "      <td>50511</td>\n",
       "      <td>11</td>\n",
       "    </tr>\n",
       "    <tr>\n",
       "      <th>2</th>\n",
       "      <td>50565</td>\n",
       "      <td>3</td>\n",
       "    </tr>\n",
       "    <tr>\n",
       "      <th>3</th>\n",
       "      <td>53796</td>\n",
       "      <td>6</td>\n",
       "    </tr>\n",
       "    <tr>\n",
       "      <th>4</th>\n",
       "      <td>54143</td>\n",
       "      <td>6</td>\n",
       "    </tr>\n",
       "  </tbody>\n",
       "</table>\n",
       "</div>"
      ],
      "text/plain": [
       "   user_id  frequency\n",
       "0    50049         10\n",
       "1    50511         11\n",
       "2    50565          3\n",
       "3    53796          6\n",
       "4    54143          6"
      ]
     },
     "execution_count": 13,
     "metadata": {},
     "output_type": "execute_result"
    }
   ],
   "source": [
    "# Tính frequency\n",
    "data_freq=data.groupby('user_id').agg(frequency=('bill_id', 'count')).reset_index()\n",
    "\n",
    "data_freq.head()"
   ]
  },
  {
   "cell_type": "markdown",
   "id": "2dde7dcd-d27a-4f3a-8b99-d4bf7e2fd641",
   "metadata": {},
   "source": [
    "#### 1.3. Monetary"
   ]
  },
  {
   "cell_type": "markdown",
   "id": "3a8e81a4-54a3-497a-a9bf-f6e88e10af61",
   "metadata": {},
   "source": [
    "**Monetary:** là tổng số tiền mà khách hàng đã chi tiêu bằng việc mua hàng tại cửa hàng. Mức độ chi tiêu sẽ cho biết khả năng chi tiêu của khách hàng nằm ở đâu, từ đó có những chiến lược cụ thể để chăm sóc khách hàng."
   ]
  },
  {
   "cell_type": "code",
   "execution_count": 14,
   "id": "5a06133d-0d2d-46f8-bc62-bca495d7fca8",
   "metadata": {},
   "outputs": [
    {
     "data": {
      "text/html": [
       "<div>\n",
       "<style scoped>\n",
       "    .dataframe tbody tr th:only-of-type {\n",
       "        vertical-align: middle;\n",
       "    }\n",
       "\n",
       "    .dataframe tbody tr th {\n",
       "        vertical-align: top;\n",
       "    }\n",
       "\n",
       "    .dataframe thead th {\n",
       "        text-align: right;\n",
       "    }\n",
       "</style>\n",
       "<table border=\"1\" class=\"dataframe\">\n",
       "  <thead>\n",
       "    <tr style=\"text-align: right;\">\n",
       "      <th></th>\n",
       "      <th>user_id</th>\n",
       "      <th>monetary</th>\n",
       "    </tr>\n",
       "  </thead>\n",
       "  <tbody>\n",
       "    <tr>\n",
       "      <th>0</th>\n",
       "      <td>50049</td>\n",
       "      <td>8805.0001</td>\n",
       "    </tr>\n",
       "    <tr>\n",
       "      <th>1</th>\n",
       "      <td>50511</td>\n",
       "      <td>16246.0021</td>\n",
       "    </tr>\n",
       "    <tr>\n",
       "      <th>2</th>\n",
       "      <td>50565</td>\n",
       "      <td>3198.0010</td>\n",
       "    </tr>\n",
       "    <tr>\n",
       "      <th>3</th>\n",
       "      <td>53796</td>\n",
       "      <td>6195.0032</td>\n",
       "    </tr>\n",
       "    <tr>\n",
       "      <th>4</th>\n",
       "      <td>54143</td>\n",
       "      <td>8896.0030</td>\n",
       "    </tr>\n",
       "  </tbody>\n",
       "</table>\n",
       "</div>"
      ],
      "text/plain": [
       "   user_id    monetary\n",
       "0    50049   8805.0001\n",
       "1    50511  16246.0021\n",
       "2    50565   3198.0010\n",
       "3    53796   6195.0032\n",
       "4    54143   8896.0030"
      ]
     },
     "execution_count": 14,
     "metadata": {},
     "output_type": "execute_result"
    }
   ],
   "source": [
    "# Tính Monetary\n",
    "data['total_amount']=data['line_item_amount']*data['quantity']\n",
    "data_money=data.groupby('user_id').agg(monetary=('total_amount', 'sum')).reset_index()\n",
    "\n",
    "data_money.head()"
   ]
  },
  {
   "cell_type": "code",
   "execution_count": 27,
   "id": "c927b39d-4872-4c78-9c3d-d8b8b58853a9",
   "metadata": {},
   "outputs": [
    {
     "data": {
      "text/html": [
       "<div>\n",
       "<style scoped>\n",
       "    .dataframe tbody tr th:only-of-type {\n",
       "        vertical-align: middle;\n",
       "    }\n",
       "\n",
       "    .dataframe tbody tr th {\n",
       "        vertical-align: top;\n",
       "    }\n",
       "\n",
       "    .dataframe thead th {\n",
       "        text-align: right;\n",
       "    }\n",
       "</style>\n",
       "<table border=\"1\" class=\"dataframe\">\n",
       "  <thead>\n",
       "    <tr style=\"text-align: right;\">\n",
       "      <th></th>\n",
       "      <th>user_id</th>\n",
       "      <th>recency</th>\n",
       "      <th>frequency</th>\n",
       "      <th>monetary</th>\n",
       "    </tr>\n",
       "  </thead>\n",
       "  <tbody>\n",
       "    <tr>\n",
       "      <th>0</th>\n",
       "      <td>50049</td>\n",
       "      <td>83</td>\n",
       "      <td>10</td>\n",
       "      <td>8805.0001</td>\n",
       "    </tr>\n",
       "    <tr>\n",
       "      <th>1</th>\n",
       "      <td>50511</td>\n",
       "      <td>51</td>\n",
       "      <td>11</td>\n",
       "      <td>16246.0021</td>\n",
       "    </tr>\n",
       "    <tr>\n",
       "      <th>2</th>\n",
       "      <td>50565</td>\n",
       "      <td>0</td>\n",
       "      <td>3</td>\n",
       "      <td>3198.0010</td>\n",
       "    </tr>\n",
       "    <tr>\n",
       "      <th>3</th>\n",
       "      <td>53796</td>\n",
       "      <td>222</td>\n",
       "      <td>6</td>\n",
       "      <td>6195.0032</td>\n",
       "    </tr>\n",
       "    <tr>\n",
       "      <th>4</th>\n",
       "      <td>54143</td>\n",
       "      <td>122</td>\n",
       "      <td>6</td>\n",
       "      <td>8896.0030</td>\n",
       "    </tr>\n",
       "  </tbody>\n",
       "</table>\n",
       "</div>"
      ],
      "text/plain": [
       "   user_id  recency  frequency    monetary\n",
       "0    50049       83         10   8805.0001\n",
       "1    50511       51         11  16246.0021\n",
       "2    50565        0          3   3198.0010\n",
       "3    53796      222          6   6195.0032\n",
       "4    54143      122          6   8896.0030"
      ]
     },
     "execution_count": 27,
     "metadata": {},
     "output_type": "execute_result"
    }
   ],
   "source": [
    "# Tổng hợp kết quả RFM\n",
    "customer=pd.DataFrame(data['user_id'].unique())\n",
    "customer.columns=['user_id']\n",
    "\n",
    "# Nổi các bảng chứa kết quả RFM vào bảng customer\n",
    "data_customer=pd.merge(customer, data_recency, how='left', on='user_id')\n",
    "data_customer=pd.merge(data_customer, data_freq, how='left', on='user_id')\n",
    "data_customer=pd.merge(data_customer, data_money, how='left', on='user_id')\n",
    "data_customer.drop(columns='last_purchase_date', inplace=True)\n",
    "data_customer.head()"
   ]
  },
  {
   "cell_type": "markdown",
   "id": "e07aa3c2-4b4d-4956-8659-d3d03e83265c",
   "metadata": {},
   "source": [
    "### 2. Chấm điểm RFM cho từng khách hàng"
   ]
  },
  {
   "cell_type": "markdown",
   "id": "d499b2c4-8d46-404a-b641-0753d5f78985",
   "metadata": {},
   "source": [
    "#### 2.1. Chấm điểm cho từng chỉ số RFM"
   ]
  },
  {
   "cell_type": "markdown",
   "id": "04d7bd1b-50d1-4258-b0ff-b60fbe3471eb",
   "metadata": {},
   "source": [
    "Có khá nhiều cách để chấm điểm RFM cho từng khách hàng, tuy nhiên trong dự án này, ta sẽ sử dụng K-Means để phân cụm khách hàng dựa trên 3 chỉ số RFM. "
   ]
  },
  {
   "cell_type": "code",
   "execution_count": 28,
   "id": "958db067-8755-47a9-a63f-6d2b3ca00f0a",
   "metadata": {},
   "outputs": [
    {
     "data": {
      "text/html": [
       "<div>\n",
       "<style scoped>\n",
       "    .dataframe tbody tr th:only-of-type {\n",
       "        vertical-align: middle;\n",
       "    }\n",
       "\n",
       "    .dataframe tbody tr th {\n",
       "        vertical-align: top;\n",
       "    }\n",
       "\n",
       "    .dataframe thead th {\n",
       "        text-align: right;\n",
       "    }\n",
       "</style>\n",
       "<table border=\"1\" class=\"dataframe\">\n",
       "  <thead>\n",
       "    <tr style=\"text-align: right;\">\n",
       "      <th></th>\n",
       "      <th>user_id</th>\n",
       "      <th>recency</th>\n",
       "      <th>frequency</th>\n",
       "      <th>monetary</th>\n",
       "    </tr>\n",
       "  </thead>\n",
       "  <tbody>\n",
       "    <tr>\n",
       "      <th>count</th>\n",
       "      <td>3.388830e+05</td>\n",
       "      <td>338883.000000</td>\n",
       "      <td>338883.000000</td>\n",
       "      <td>3.388830e+05</td>\n",
       "    </tr>\n",
       "    <tr>\n",
       "      <th>mean</th>\n",
       "      <td>4.666658e+08</td>\n",
       "      <td>113.059395</td>\n",
       "      <td>5.829602</td>\n",
       "      <td>1.003027e+04</td>\n",
       "    </tr>\n",
       "    <tr>\n",
       "      <th>std</th>\n",
       "      <td>9.969383e+07</td>\n",
       "      <td>94.147126</td>\n",
       "      <td>8.112031</td>\n",
       "      <td>3.045359e+04</td>\n",
       "    </tr>\n",
       "    <tr>\n",
       "      <th>min</th>\n",
       "      <td>5.004900e+04</td>\n",
       "      <td>0.000000</td>\n",
       "      <td>1.000000</td>\n",
       "      <td>0.000000e+00</td>\n",
       "    </tr>\n",
       "    <tr>\n",
       "      <th>25%</th>\n",
       "      <td>4.460128e+08</td>\n",
       "      <td>31.000000</td>\n",
       "      <td>2.000000</td>\n",
       "      <td>2.599001e+03</td>\n",
       "    </tr>\n",
       "    <tr>\n",
       "      <th>50%</th>\n",
       "      <td>5.078375e+08</td>\n",
       "      <td>87.000000</td>\n",
       "      <td>4.000000</td>\n",
       "      <td>5.098002e+03</td>\n",
       "    </tr>\n",
       "    <tr>\n",
       "      <th>75%</th>\n",
       "      <td>5.218344e+08</td>\n",
       "      <td>174.000000</td>\n",
       "      <td>6.000000</td>\n",
       "      <td>9.606415e+03</td>\n",
       "    </tr>\n",
       "    <tr>\n",
       "      <th>max</th>\n",
       "      <td>5.359105e+08</td>\n",
       "      <td>364.000000</td>\n",
       "      <td>522.000000</td>\n",
       "      <td>8.021671e+06</td>\n",
       "    </tr>\n",
       "  </tbody>\n",
       "</table>\n",
       "</div>"
      ],
      "text/plain": [
       "            user_id        recency      frequency      monetary\n",
       "count  3.388830e+05  338883.000000  338883.000000  3.388830e+05\n",
       "mean   4.666658e+08     113.059395       5.829602  1.003027e+04\n",
       "std    9.969383e+07      94.147126       8.112031  3.045359e+04\n",
       "min    5.004900e+04       0.000000       1.000000  0.000000e+00\n",
       "25%    4.460128e+08      31.000000       2.000000  2.599001e+03\n",
       "50%    5.078375e+08      87.000000       4.000000  5.098002e+03\n",
       "75%    5.218344e+08     174.000000       6.000000  9.606415e+03\n",
       "max    5.359105e+08     364.000000     522.000000  8.021671e+06"
      ]
     },
     "execution_count": 28,
     "metadata": {},
     "output_type": "execute_result"
    }
   ],
   "source": [
    "data_customer.describe()"
   ]
  },
  {
   "cell_type": "markdown",
   "id": "be1c2d2c-94a2-4a7e-b088-3532cb2a7296",
   "metadata": {},
   "source": [
    "Kết quả trên cho thấy F và M có sự khác thường. Dễ thấy 75% khách hàng có Frequency <=6 trong khi Frequency lớn nhất lại là 522. Tương tự với Monetary. Điều đó cho thấy các chỉ số RFM đang có phân phối lệch, việc sử dụng phân cụm trong trường hợp này sẽ làm giảm độ chính xác của các cụm, từ đó gán sai điểm số cho mỗi khách hàng."
   ]
  },
  {
   "cell_type": "code",
   "execution_count": 29,
   "id": "47711d62-d051-4f28-aaf7-e801416cf69e",
   "metadata": {},
   "outputs": [
    {
     "data": {
      "text/plain": [
       "''"
      ]
     },
     "execution_count": 29,
     "metadata": {},
     "output_type": "execute_result"
    },
    {
     "data": {
      "image/png": "[encoded data removed]",
      "text/plain": [
       "<Figure size 2000x500 with 3 Axes>"
      ]
     },
     "metadata": {},
     "output_type": "display_data"
    }
   ],
   "source": [
    "# Kiểm tra tính phân phối của RFM\n",
    "fig, ax = plt.subplots(1,3, figsize=(20,5))\n",
    "sns.histplot(data=data_customer, x='recency', bins=25, kde=True, ax=ax[0])\n",
    "sns.histplot(data=data_customer, x='frequency', bins=10, kde=True, ax=ax[1])\n",
    "sns.histplot(data=data_customer, x='monetary', bins=10, kde=True, ax=ax[2])\n",
    "ax[0].set_title('Phân phối của Recency')\n",
    "ax[1].set_title('Phân phối của Frequency')\n",
    "ax[2].set_title('Phân phối của Monetary')\n",
    ";"
   ]
  },
  {
   "cell_type": "markdown",
   "id": "635e88fa-f147-4760-bf73-bedbc21f1d88",
   "metadata": {},
   "source": [
    "Để việc phân cụm trở nên có ý nghĩa thì các đặc điểm trong dữ liệu cần có phân phối chuẩn. Dựa vào 3 biểu đồ trên, các chỉ số đều có phân phối lệch. Để kết quả phân cụm đem lại độ chính xác cao thì việc giải quyết đưa các cột về phân phối chuẩn hoặc gần chuẩn là cần thiết. Trong trường hợp này, ta sẽ sử dụng 2 phép biến đổi là Logarit và Square root và lựa chọn cách biến đổi với độ lệch của phân phối là thấp nhất"
   ]
  },
  {
   "cell_type": "code",
   "execution_count": 18,
   "id": "f22d7e06-7188-4a2a-909e-2c94b34342e1",
   "metadata": {},
   "outputs": [],
   "source": [
    "# Tạo hàm để vẽ phân phối trước và sau khi biến đổi\n",
    "def skew_analyze(x):\n",
    "    fig, ax = plt.subplots(1,3, figsize=(20,5))\n",
    "    sns.histplot(data=data_customer, x=x, kde=True, ax=ax[0])\n",
    "    sns.histplot(data=data_customer, x=np.log(data_customer[x]), kde=True, ax=ax[1])\n",
    "    sns.histplot(data=data_customer, x=np.sqrt(data_customer[x]), kde=True, ax=ax[2])\n",
    "    ax[0].set_title('Không biến đổi')\n",
    "    ax[1].set_title('Biến đổi Logarit')\n",
    "    ax[2].set_title('Biến đổi Square Root')\n",
    "    plt.show()\n",
    "\n",
    "    print(data_customer[x].skew().round(2))\n",
    "    print(np.log(data_customer[x]).skew().round(2))\n",
    "    print(np.sqrt(data_customer[x]).skew().round(2))"
   ]
  },
  {
   "cell_type": "code",
   "execution_count": 30,
   "id": "acb4871e-9323-491a-9324-8ecf57084651",
   "metadata": {},
   "outputs": [
    {
     "name": "stderr",
     "output_type": "stream",
     "text": [
      "C:\\Users\\ADMIN\\anaconda3\\Lib\\site-packages\\pandas\\core\\arraylike.py:396: RuntimeWarning: divide by zero encountered in log\n",
      "  result = getattr(ufunc, method)(*inputs, **kwargs)\n"
     ]
    },
    {
     "data": {
      "image/png": "[encoded data removed]",
      "text/plain": [
       "<Figure size 2000x500 with 3 Axes>"
      ]
     },
     "metadata": {},
     "output_type": "display_data"
    },
    {
     "name": "stdout",
     "output_type": "stream",
     "text": [
      "0.76\n",
      "nan\n",
      "-0.05\n"
     ]
    },
    {
     "name": "stderr",
     "output_type": "stream",
     "text": [
      "C:\\Users\\ADMIN\\anaconda3\\Lib\\site-packages\\pandas\\core\\arraylike.py:396: RuntimeWarning: divide by zero encountered in log\n",
      "  result = getattr(ufunc, method)(*inputs, **kwargs)\n",
      "C:\\Users\\ADMIN\\anaconda3\\Lib\\site-packages\\pandas\\core\\nanops.py:1248: RuntimeWarning: invalid value encountered in subtract\n",
      "  adjusted = values - mean\n"
     ]
    }
   ],
   "source": [
    "# Thử với recency\n",
    "skew_analyze('recency')"
   ]
  },
  {
   "cell_type": "code",
   "execution_count": 20,
   "id": "20c86757-503f-4d2b-bbfd-b01ee9a998ef",
   "metadata": {},
   "outputs": [
    {
     "data": {
      "image/png": "[encoded data removed]",
      "text/plain": [
       "<Figure size 2000x500 with 3 Axes>"
      ]
     },
     "metadata": {},
     "output_type": "display_data"
    },
    {
     "name": "stdout",
     "output_type": "stream",
     "text": [
      "11.91\n",
      "0.41\n",
      "2.43\n"
     ]
    }
   ],
   "source": [
    "# Thử với frequency\n",
    "skew_analyze('frequency')"
   ]
  },
  {
   "cell_type": "code",
   "execution_count": 21,
   "id": "e9584a7b-a50d-418c-ab33-8f94d9509626",
   "metadata": {},
   "outputs": [
    {
     "name": "stderr",
     "output_type": "stream",
     "text": [
      "C:\\Users\\ADMIN\\anaconda3\\Lib\\site-packages\\pandas\\core\\arraylike.py:396: RuntimeWarning: divide by zero encountered in log\n",
      "  result = getattr(ufunc, method)(*inputs, **kwargs)\n"
     ]
    },
    {
     "data": {
      "image/png": "[encoded data removed]",
      "text/plain": [
       "<Figure size 2000x500 with 3 Axes>"
      ]
     },
     "metadata": {},
     "output_type": "display_data"
    },
    {
     "name": "stdout",
     "output_type": "stream",
     "text": [
      "112.44\n",
      "nan\n",
      "4.43\n"
     ]
    },
    {
     "name": "stderr",
     "output_type": "stream",
     "text": [
      "C:\\Users\\ADMIN\\anaconda3\\Lib\\site-packages\\pandas\\core\\arraylike.py:396: RuntimeWarning: divide by zero encountered in log\n",
      "  result = getattr(ufunc, method)(*inputs, **kwargs)\n",
      "C:\\Users\\ADMIN\\anaconda3\\Lib\\site-packages\\pandas\\core\\nanops.py:1248: RuntimeWarning: invalid value encountered in subtract\n",
      "  adjusted = values - mean\n"
     ]
    }
   ],
   "source": [
    "# Thử với monetary\n",
    "skew_analyze('monetary')"
   ]
  },
  {
   "cell_type": "markdown",
   "id": "f3fceb00-8378-4e4f-b3bd-def949923bcf",
   "metadata": {},
   "source": [
    "Từ 3 kết quả trên cho thấy:\n",
    "- Recency: sử dụng biến đổi Square root\n",
    "- Frequency: sử dụng biến đổi Logarit\n",
    "- Monetary: sử dụng biến đổi Square root"
   ]
  },
  {
   "cell_type": "code",
   "execution_count": 42,
   "id": "c91280e4-f2d7-4430-a926-f1de8612312e",
   "metadata": {},
   "outputs": [
    {
     "data": {
      "text/html": [
       "<div>\n",
       "<style scoped>\n",
       "    .dataframe tbody tr th:only-of-type {\n",
       "        vertical-align: middle;\n",
       "    }\n",
       "\n",
       "    .dataframe tbody tr th {\n",
       "        vertical-align: top;\n",
       "    }\n",
       "\n",
       "    .dataframe thead th {\n",
       "        text-align: right;\n",
       "    }\n",
       "</style>\n",
       "<table border=\"1\" class=\"dataframe\">\n",
       "  <thead>\n",
       "    <tr style=\"text-align: right;\">\n",
       "      <th></th>\n",
       "      <th>user_id</th>\n",
       "      <th>recency</th>\n",
       "      <th>frequency</th>\n",
       "      <th>monetary</th>\n",
       "    </tr>\n",
       "  </thead>\n",
       "  <tbody>\n",
       "    <tr>\n",
       "      <th>0</th>\n",
       "      <td>50049</td>\n",
       "      <td>9.110434</td>\n",
       "      <td>2.302585</td>\n",
       "      <td>20.649512</td>\n",
       "    </tr>\n",
       "    <tr>\n",
       "      <th>1</th>\n",
       "      <td>50511</td>\n",
       "      <td>7.141428</td>\n",
       "      <td>2.397895</td>\n",
       "      <td>25.326908</td>\n",
       "    </tr>\n",
       "    <tr>\n",
       "      <th>2</th>\n",
       "      <td>50565</td>\n",
       "      <td>0.000000</td>\n",
       "      <td>1.098612</td>\n",
       "      <td>14.733057</td>\n",
       "    </tr>\n",
       "    <tr>\n",
       "      <th>3</th>\n",
       "      <td>53796</td>\n",
       "      <td>14.899664</td>\n",
       "      <td>1.791759</td>\n",
       "      <td>18.365969</td>\n",
       "    </tr>\n",
       "    <tr>\n",
       "      <th>4</th>\n",
       "      <td>54143</td>\n",
       "      <td>11.045361</td>\n",
       "      <td>1.791759</td>\n",
       "      <td>20.720408</td>\n",
       "    </tr>\n",
       "  </tbody>\n",
       "</table>\n",
       "</div>"
      ],
      "text/plain": [
       "   user_id    recency  frequency   monetary\n",
       "0    50049   9.110434   2.302585  20.649512\n",
       "1    50511   7.141428   2.397895  25.326908\n",
       "2    50565   0.000000   1.098612  14.733057\n",
       "3    53796  14.899664   1.791759  18.365969\n",
       "4    54143  11.045361   1.791759  20.720408"
      ]
     },
     "execution_count": 42,
     "metadata": {},
     "output_type": "execute_result"
    }
   ],
   "source": [
    "# Transform data\n",
    "data_customer_t=pd.DataFrame()\n",
    "data_customer_t['user_id']=data_customer['user_id']\n",
    "data_customer_t['recency']=pd.Series(np.sqrt(data_customer['recency']))\n",
    "data_customer_t['frequency']=pd.Series(np.log(data_customer['frequency']))\n",
    "data_customer_t['monetary']=pd.Series(np.cbrt(data_customer['monetary']))\n",
    "\n",
    "data_customer_t.head()"
   ]
  },
  {
   "cell_type": "markdown",
   "id": "daa79c59-9486-4c3b-9804-89e1fcb88343",
   "metadata": {},
   "source": [
    "**Phân khúc khách hàng với KMeans**"
   ]
  },
  {
   "cell_type": "code",
   "execution_count": 43,
   "id": "4c4af2f3-5277-481e-83e6-a798ba4fe1a8",
   "metadata": {},
   "outputs": [
    {
     "data": {
      "image/png": "[encoded data removed]",
      "text/plain": [
       "<Figure size 640x480 with 1 Axes>"
      ]
     },
     "metadata": {},
     "output_type": "display_data"
    }
   ],
   "source": [
    "from sklearn.cluster import KMeans\n",
    "\n",
    "# Tìm số cụm thích hợp bằng Elbow\n",
    "sse={}\n",
    "for k in range(1,11):\n",
    "    kmeans=KMeans(n_clusters=k, random_state=10)\n",
    "    kmeans.fit(data_customer_t[['recency', 'frequency', 'monetary']])\n",
    "    sse[k]=kmeans.inertia_\n",
    "\n",
    "plt.plot(list(sse.keys()), list(sse.values()), 'o-')\n",
    "plt.title('Elbow method')\n",
    "plt.xlabel('k')\n",
    "plt.ylabel('SSE')\n",
    "plt.xticks(range(1,11))\n",
    "plt.show()"
   ]
  },
  {
   "cell_type": "code",
   "execution_count": 44,
   "id": "ad6debbf-ac26-40d3-b7bb-7b7eb39046d0",
   "metadata": {},
   "outputs": [
    {
     "data": {
      "text/html": [
       "<div>\n",
       "<style scoped>\n",
       "    .dataframe tbody tr th:only-of-type {\n",
       "        vertical-align: middle;\n",
       "    }\n",
       "\n",
       "    .dataframe tbody tr th {\n",
       "        vertical-align: top;\n",
       "    }\n",
       "\n",
       "    .dataframe thead th {\n",
       "        text-align: right;\n",
       "    }\n",
       "</style>\n",
       "<table border=\"1\" class=\"dataframe\">\n",
       "  <thead>\n",
       "    <tr style=\"text-align: right;\">\n",
       "      <th></th>\n",
       "      <th>recency</th>\n",
       "      <th>frequency</th>\n",
       "      <th>monetary</th>\n",
       "    </tr>\n",
       "    <tr>\n",
       "      <th>rfm_segment</th>\n",
       "      <th></th>\n",
       "      <th></th>\n",
       "      <th></th>\n",
       "    </tr>\n",
       "  </thead>\n",
       "  <tbody>\n",
       "    <tr>\n",
       "      <th>0</th>\n",
       "      <td>43.834503</td>\n",
       "      <td>3.234901</td>\n",
       "      <td>4021.924468</td>\n",
       "    </tr>\n",
       "    <tr>\n",
       "      <th>1</th>\n",
       "      <td>206.968460</td>\n",
       "      <td>2.863432</td>\n",
       "      <td>3859.827343</td>\n",
       "    </tr>\n",
       "    <tr>\n",
       "      <th>2</th>\n",
       "      <td>39.159488</td>\n",
       "      <td>26.204352</td>\n",
       "      <td>64122.028919</td>\n",
       "    </tr>\n",
       "    <tr>\n",
       "      <th>3</th>\n",
       "      <td>69.560094</td>\n",
       "      <td>8.764898</td>\n",
       "      <td>14098.365522</td>\n",
       "    </tr>\n",
       "  </tbody>\n",
       "</table>\n",
       "</div>"
      ],
      "text/plain": [
       "                recency  frequency      monetary\n",
       "rfm_segment                                     \n",
       "0             43.834503   3.234901   4021.924468\n",
       "1            206.968460   2.863432   3859.827343\n",
       "2             39.159488  26.204352  64122.028919\n",
       "3             69.560094   8.764898  14098.365522"
      ]
     },
     "execution_count": 44,
     "metadata": {},
     "output_type": "execute_result"
    }
   ],
   "source": [
    "# Phân khúc khách hàng dựa trên RFM\n",
    "kmeans=KMeans(n_clusters=4)\n",
    "kmeans.fit(data_customer_t[['recency', 'frequency', 'monetary']])\n",
    "\n",
    "data_customer['rfm_segment']=kmeans.labels_\n",
    "\n",
    "data_customer.groupby('rfm_segment').agg({\n",
    "    'recency':'mean',\n",
    "    'frequency':'mean',\n",
    "    'monetary':'mean'\n",
    "})"
   ]
  },
  {
   "cell_type": "markdown",
   "id": "c18dc9f8-d569-439c-91ac-c6a510397b77",
   "metadata": {},
   "source": [
    "Đặc điểm từng nhóm\n",
    "- Nhóm 0: Khách hàng mua hàng với thời gian mua hàng tương đối gần, tần suất mua hàng trung bình, và số tiền mua tương đối thấp\n",
    "- Nhóm 1: Khách hàng đã không mua hàng trong khoảng thời gian rất dài, tần suất mua hàng thấp, số tiền mua hàng thấp\n",
    "- Nhóm 2: Khách hàng mua hàng gần đây, số lượng đơn hàng nhiều và số tiền rất lớn\n",
    "- Nhóm 3: Khách hàng mua hàng hơi gần, số lượng đơn hàng tương đối nhiều và số tiền tương đối lớn\n",
    "\n",
    "=> Thứ tự ưu tiên từng nhóm khách hàng: Nhóm 2 > Nhóm 3 > Nhóm 0 > Nhóm 1"
   ]
  },
  {
   "cell_type": "code",
   "execution_count": 45,
   "id": "5d2d3b9a-f1f3-4061-aec6-536f51474880",
   "metadata": {},
   "outputs": [
    {
     "data": {
      "text/html": [
       "<div>\n",
       "<style scoped>\n",
       "    .dataframe tbody tr th:only-of-type {\n",
       "        vertical-align: middle;\n",
       "    }\n",
       "\n",
       "    .dataframe tbody tr th {\n",
       "        vertical-align: top;\n",
       "    }\n",
       "\n",
       "    .dataframe thead th {\n",
       "        text-align: right;\n",
       "    }\n",
       "</style>\n",
       "<table border=\"1\" class=\"dataframe\">\n",
       "  <thead>\n",
       "    <tr style=\"text-align: right;\">\n",
       "      <th></th>\n",
       "      <th>recency</th>\n",
       "      <th>frequency</th>\n",
       "      <th>monetary</th>\n",
       "    </tr>\n",
       "    <tr>\n",
       "      <th>rfm_segment</th>\n",
       "      <th></th>\n",
       "      <th></th>\n",
       "      <th></th>\n",
       "    </tr>\n",
       "  </thead>\n",
       "  <tbody>\n",
       "    <tr>\n",
       "      <th>0</th>\n",
       "      <td>206.968460</td>\n",
       "      <td>2.863432</td>\n",
       "      <td>3859.827343</td>\n",
       "    </tr>\n",
       "    <tr>\n",
       "      <th>1</th>\n",
       "      <td>43.834503</td>\n",
       "      <td>3.234901</td>\n",
       "      <td>4021.924468</td>\n",
       "    </tr>\n",
       "    <tr>\n",
       "      <th>2</th>\n",
       "      <td>69.560094</td>\n",
       "      <td>8.764898</td>\n",
       "      <td>14098.365522</td>\n",
       "    </tr>\n",
       "    <tr>\n",
       "      <th>3</th>\n",
       "      <td>39.159488</td>\n",
       "      <td>26.204352</td>\n",
       "      <td>64122.028919</td>\n",
       "    </tr>\n",
       "  </tbody>\n",
       "</table>\n",
       "</div>"
      ],
      "text/plain": [
       "                recency  frequency      monetary\n",
       "rfm_segment                                     \n",
       "0            206.968460   2.863432   3859.827343\n",
       "1             43.834503   3.234901   4021.924468\n",
       "2             69.560094   8.764898  14098.365522\n",
       "3             39.159488  26.204352  64122.028919"
      ]
     },
     "execution_count": 45,
     "metadata": {},
     "output_type": "execute_result"
    }
   ],
   "source": [
    "# Sắp xếp lại nhóm khách hàng theo thứ tự từ ít ưu tiên đến ưu tiên nhiều\n",
    "\n",
    "# Tạo hàm để sắp xếp cho thứ tự cụm\n",
    "def order_cluster(cluster_field, target_field, df, ascending):\n",
    "    new_cluster_field = 'new_'+cluster_field\n",
    "    df_new = df.groupby(cluster_field)[target_field].mean().reset_index()\n",
    "    df_new = df_new.sort_values(by=target_field,ascending=ascending).reset_index(drop=True)\n",
    "    df_new['index'] = df_new.index\n",
    "    df_final = pd.merge(df,df_new[[cluster_field,'index']], on=cluster_field)\n",
    "    df_final = df_final.drop([cluster_field],axis=1)\n",
    "    df_final = df_final.rename(columns={\"index\":cluster_field})\n",
    "    return df_final\n",
    "\n",
    "data_customer=order_cluster('rfm_segment', 'monetary', data_customer, True)\n",
    "\n",
    "data_customer.groupby('rfm_segment').agg({\n",
    "    'recency':'mean',\n",
    "    'frequency':'mean',\n",
    "    'monetary':'mean'\n",
    "})"
   ]
  },
  {
   "cell_type": "markdown",
   "id": "0f665ef7-c3a6-401e-964a-b1eb1b716e24",
   "metadata": {},
   "source": [
    "Thứ tự mới: Nhóm 3 > Nhóm 2 > Nhóm 1 > Nhóm 0"
   ]
  },
  {
   "cell_type": "markdown",
   "id": "7260a770-1114-45e1-8147-e184816c2f02",
   "metadata": {},
   "source": [
    "### 3. Tính Customer Lifetime Value"
   ]
  },
  {
   "cell_type": "markdown",
   "id": "0f90f08d-04e5-46f6-8747-15ca7ae7703e",
   "metadata": {},
   "source": [
    "Công thức tính **CLV = Giá trị mua hàng trung bình x Số lượng đơn hàng trung bình trong 1 khoảng thời gian x Tỉ suất lợi nhuận gộp x Tuổi thọ trung bình của khách hàng**"
   ]
  },
  {
   "cell_type": "code",
   "execution_count": 47,
   "id": "c63da51c-e11c-4d1a-ad43-300548f48979",
   "metadata": {},
   "outputs": [
    {
     "data": {
      "text/html": [
       "<div>\n",
       "<style scoped>\n",
       "    .dataframe tbody tr th:only-of-type {\n",
       "        vertical-align: middle;\n",
       "    }\n",
       "\n",
       "    .dataframe tbody tr th {\n",
       "        vertical-align: top;\n",
       "    }\n",
       "\n",
       "    .dataframe thead th {\n",
       "        text-align: right;\n",
       "    }\n",
       "</style>\n",
       "<table border=\"1\" class=\"dataframe\">\n",
       "  <thead>\n",
       "    <tr style=\"text-align: right;\">\n",
       "      <th></th>\n",
       "      <th>user_id</th>\n",
       "      <th>number_orders</th>\n",
       "      <th>total_amount</th>\n",
       "      <th>avg_order</th>\n",
       "    </tr>\n",
       "  </thead>\n",
       "  <tbody>\n",
       "    <tr>\n",
       "      <th>0</th>\n",
       "      <td>50049</td>\n",
       "      <td>10</td>\n",
       "      <td>8805.000100</td>\n",
       "      <td>880.500010</td>\n",
       "    </tr>\n",
       "    <tr>\n",
       "      <th>1</th>\n",
       "      <td>50511</td>\n",
       "      <td>11</td>\n",
       "      <td>16246.002100</td>\n",
       "      <td>1476.909282</td>\n",
       "    </tr>\n",
       "    <tr>\n",
       "      <th>2</th>\n",
       "      <td>54143</td>\n",
       "      <td>6</td>\n",
       "      <td>8896.003000</td>\n",
       "      <td>1482.667167</td>\n",
       "    </tr>\n",
       "    <tr>\n",
       "      <th>3</th>\n",
       "      <td>54556</td>\n",
       "      <td>11</td>\n",
       "      <td>9993.003000</td>\n",
       "      <td>908.454818</td>\n",
       "    </tr>\n",
       "    <tr>\n",
       "      <th>4</th>\n",
       "      <td>54811</td>\n",
       "      <td>9</td>\n",
       "      <td>11978.820068</td>\n",
       "      <td>1330.980008</td>\n",
       "    </tr>\n",
       "  </tbody>\n",
       "</table>\n",
       "</div>"
      ],
      "text/plain": [
       "   user_id  number_orders  total_amount    avg_order\n",
       "0    50049             10   8805.000100   880.500010\n",
       "1    50511             11  16246.002100  1476.909282\n",
       "2    54143              6   8896.003000  1482.667167\n",
       "3    54556             11   9993.003000   908.454818\n",
       "4    54811              9  11978.820068  1330.980008"
      ]
     },
     "execution_count": 47,
     "metadata": {},
     "output_type": "execute_result"
    }
   ],
   "source": [
    "# -------Tính giá trị mua hàng trung bình (=Tổng giá trị đơn hàng/Số đơn hàng)\n",
    "average_order=pd.DataFrame()\n",
    "average_order['user_id']=data_customer['user_id']\n",
    "\n",
    "number_orders=data.groupby('user_id').agg(number_orders=('bill_id', 'count')).reset_index() # Tính tổng giá trị mua hàng\n",
    "total_amount=data.groupby('user_id').agg(total_amount=('total_amount', 'sum')).reset_index() # Tính tổng số đơn hàng\n",
    "\n",
    "average_order=pd.merge(average_order, number_orders, on='user_id', how='left')\n",
    "average_order=pd.merge(average_order, total_amount, on='user_id', how='left')\n",
    "\n",
    "average_order['avg_order']=average_order['total_amount']/average_order['number_orders']\n",
    "average_order.head()"
   ]
  },
  {
   "cell_type": "code",
   "execution_count": 48,
   "id": "361e50e3-5168-4525-ac11-2f7ae8db5f2f",
   "metadata": {},
   "outputs": [
    {
     "data": {
      "text/html": [
       "<div>\n",
       "<style scoped>\n",
       "    .dataframe tbody tr th:only-of-type {\n",
       "        vertical-align: middle;\n",
       "    }\n",
       "\n",
       "    .dataframe tbody tr th {\n",
       "        vertical-align: top;\n",
       "    }\n",
       "\n",
       "    .dataframe thead th {\n",
       "        text-align: right;\n",
       "    }\n",
       "</style>\n",
       "<table border=\"1\" class=\"dataframe\">\n",
       "  <thead>\n",
       "    <tr style=\"text-align: right;\">\n",
       "      <th></th>\n",
       "      <th>user_id</th>\n",
       "      <th>number_orders</th>\n",
       "      <th>total_amount</th>\n",
       "      <th>avg_order</th>\n",
       "      <th>purchase_period</th>\n",
       "      <th>avg_purchase_freq</th>\n",
       "    </tr>\n",
       "  </thead>\n",
       "  <tbody>\n",
       "    <tr>\n",
       "      <th>0</th>\n",
       "      <td>50049</td>\n",
       "      <td>10</td>\n",
       "      <td>8805.000100</td>\n",
       "      <td>880.500010</td>\n",
       "      <td>8.500000</td>\n",
       "      <td>1.176471</td>\n",
       "    </tr>\n",
       "    <tr>\n",
       "      <th>1</th>\n",
       "      <td>50511</td>\n",
       "      <td>11</td>\n",
       "      <td>16246.002100</td>\n",
       "      <td>1476.909282</td>\n",
       "      <td>9.366667</td>\n",
       "      <td>1.174377</td>\n",
       "    </tr>\n",
       "    <tr>\n",
       "      <th>2</th>\n",
       "      <td>54143</td>\n",
       "      <td>6</td>\n",
       "      <td>8896.003000</td>\n",
       "      <td>1482.667167</td>\n",
       "      <td>6.400000</td>\n",
       "      <td>0.937500</td>\n",
       "    </tr>\n",
       "    <tr>\n",
       "      <th>3</th>\n",
       "      <td>54556</td>\n",
       "      <td>11</td>\n",
       "      <td>9993.003000</td>\n",
       "      <td>908.454818</td>\n",
       "      <td>8.566667</td>\n",
       "      <td>1.284047</td>\n",
       "    </tr>\n",
       "    <tr>\n",
       "      <th>4</th>\n",
       "      <td>54811</td>\n",
       "      <td>9</td>\n",
       "      <td>11978.820068</td>\n",
       "      <td>1330.980008</td>\n",
       "      <td>3.933333</td>\n",
       "      <td>2.288136</td>\n",
       "    </tr>\n",
       "  </tbody>\n",
       "</table>\n",
       "</div>"
      ],
      "text/plain": [
       "   user_id  number_orders  total_amount    avg_order  purchase_period  \\\n",
       "0    50049             10   8805.000100   880.500010         8.500000   \n",
       "1    50511             11  16246.002100  1476.909282         9.366667   \n",
       "2    54143              6   8896.003000  1482.667167         6.400000   \n",
       "3    54556             11   9993.003000   908.454818         8.566667   \n",
       "4    54811              9  11978.820068  1330.980008         3.933333   \n",
       "\n",
       "   avg_purchase_freq  \n",
       "0           1.176471  \n",
       "1           1.174377  \n",
       "2           0.937500  \n",
       "3           1.284047  \n",
       "4           2.288136  "
      ]
     },
     "execution_count": 48,
     "metadata": {},
     "output_type": "execute_result"
    }
   ],
   "source": [
    "# -------Tính số lượng đơn hàng trung bình trong 1 khoảng thời gian\n",
    "frequency_purchase=average_order\n",
    "\n",
    "purchase_period=data.groupby('user_id').agg(purchase_period=('transaction_date', lambda x: ((max(x)-min(x)).days))).reset_index()\n",
    "\n",
    "frequency_purchase=pd.merge(frequency_purchase, purchase_period, on='user_id', how='left')\n",
    "frequency_purchase['purchase_period']=(frequency_purchase['purchase_period']/30)\n",
    "\n",
    "# Tính số lượng đơn hàng trung bình\n",
    "frequency_purchase['avg_purchase_freq']=np.where(frequency_purchase['purchase_period']==0,0,frequency_purchase['number_orders']/frequency_purchase['purchase_period'])\n",
    "frequency_purchase.head()"
   ]
  },
  {
   "cell_type": "markdown",
   "id": "c48b4c14-20f8-451c-8df0-be8ffe30179b",
   "metadata": {},
   "source": [
    "Do có một số khách hàng chỉ mua hàng trong đúng 1 ngày nên sẽ có những khách hàng có khoảng thời gian mua hàng bằng 0, từ đó dẫn đến avg_purchase_freq=inf. Trong trường hợp nay, ta sẽ để khách hàng đó có avg_purchase_freq=0"
   ]
  },
  {
   "cell_type": "code",
   "execution_count": 49,
   "id": "1eef43d2-7337-44a3-a74d-ef84e7dee22e",
   "metadata": {},
   "outputs": [
    {
     "data": {
      "text/html": [
       "<div>\n",
       "<style scoped>\n",
       "    .dataframe tbody tr th:only-of-type {\n",
       "        vertical-align: middle;\n",
       "    }\n",
       "\n",
       "    .dataframe tbody tr th {\n",
       "        vertical-align: top;\n",
       "    }\n",
       "\n",
       "    .dataframe thead th {\n",
       "        text-align: right;\n",
       "    }\n",
       "</style>\n",
       "<table border=\"1\" class=\"dataframe\">\n",
       "  <thead>\n",
       "    <tr style=\"text-align: right;\">\n",
       "      <th></th>\n",
       "      <th>user_id</th>\n",
       "      <th>recency</th>\n",
       "      <th>frequency</th>\n",
       "      <th>monetary</th>\n",
       "      <th>rfm_segment</th>\n",
       "      <th>CLV</th>\n",
       "    </tr>\n",
       "  </thead>\n",
       "  <tbody>\n",
       "    <tr>\n",
       "      <th>0</th>\n",
       "      <td>50049</td>\n",
       "      <td>83</td>\n",
       "      <td>10</td>\n",
       "      <td>8805.000100</td>\n",
       "      <td>2</td>\n",
       "      <td>828.705892</td>\n",
       "    </tr>\n",
       "    <tr>\n",
       "      <th>1</th>\n",
       "      <td>50511</td>\n",
       "      <td>51</td>\n",
       "      <td>11</td>\n",
       "      <td>16246.002100</td>\n",
       "      <td>2</td>\n",
       "      <td>1387.558898</td>\n",
       "    </tr>\n",
       "    <tr>\n",
       "      <th>2</th>\n",
       "      <td>54143</td>\n",
       "      <td>122</td>\n",
       "      <td>6</td>\n",
       "      <td>8896.003000</td>\n",
       "      <td>2</td>\n",
       "      <td>1112.000375</td>\n",
       "    </tr>\n",
       "    <tr>\n",
       "      <th>3</th>\n",
       "      <td>54556</td>\n",
       "      <td>27</td>\n",
       "      <td>11</td>\n",
       "      <td>9993.003000</td>\n",
       "      <td>2</td>\n",
       "      <td>933.198724</td>\n",
       "    </tr>\n",
       "    <tr>\n",
       "      <th>4</th>\n",
       "      <td>54811</td>\n",
       "      <td>147</td>\n",
       "      <td>9</td>\n",
       "      <td>11978.820068</td>\n",
       "      <td>2</td>\n",
       "      <td>2436.370183</td>\n",
       "    </tr>\n",
       "  </tbody>\n",
       "</table>\n",
       "</div>"
      ],
      "text/plain": [
       "   user_id  recency  frequency      monetary  rfm_segment          CLV\n",
       "0    50049       83         10   8805.000100            2   828.705892\n",
       "1    50511       51         11  16246.002100            2  1387.558898\n",
       "2    54143      122          6   8896.003000            2  1112.000375\n",
       "3    54556       27         11   9993.003000            2   933.198724\n",
       "4    54811      147          9  11978.820068            2  2436.370183"
      ]
     },
     "execution_count": 49,
     "metadata": {},
     "output_type": "execute_result"
    }
   ],
   "source": [
    "# -------Tính giá trị Customer lifetime value\n",
    "data_customer_clv=frequency_purchase\n",
    "data_customer_clv['CLV']=data_customer_clv['avg_order']*data_customer_clv['avg_purchase_freq']*0.4*2\n",
    "\n",
    "data_final=pd.merge(data_customer, data_customer_clv, on='user_id', how='left')\n",
    "\n",
    "data_final.drop(columns=['number_orders', 'total_amount', 'avg_order', 'purchase_period', 'avg_purchase_freq'], inplace=True)\n",
    "data_final.head()"
   ]
  },
  {
   "cell_type": "markdown",
   "id": "c97b42bf-fd01-468d-8dad-52dd44b2b5eb",
   "metadata": {},
   "source": [
    "### 4. Phân khúc khách hàng dựa trên RFM và CLV"
   ]
  },
  {
   "cell_type": "code",
   "execution_count": 50,
   "id": "75d58bed-b5dc-41c1-a8f6-c1d697b09e5f",
   "metadata": {},
   "outputs": [
    {
     "data": {
      "image/png": "[encoded data removed]",
      "text/plain": [
       "<Figure size 640x480 with 1 Axes>"
      ]
     },
     "metadata": {},
     "output_type": "display_data"
    }
   ],
   "source": [
    "# Tìm số cụm thích hợp bằng Elbow\n",
    "sse={}\n",
    "for k in range(1,11):\n",
    "    kmeans=KMeans(n_clusters=k, random_state=10)\n",
    "    kmeans.fit(data_final[['rfm_segment', 'CLV']])\n",
    "    sse[k]=kmeans.inertia_\n",
    "\n",
    "plt.plot(list(sse.keys()), list(sse.values()), 'o-')\n",
    "plt.title('Elbow method')\n",
    "plt.xlabel('k')\n",
    "plt.ylabel('SSE')\n",
    "plt.xticks(range(1,11))\n",
    "plt.show()"
   ]
  },
  {
   "cell_type": "code",
   "execution_count": 55,
   "id": "d5321367-251f-4e13-b6ab-b150902255b8",
   "metadata": {},
   "outputs": [
    {
     "data": {
      "text/html": [
       "<div>\n",
       "<style scoped>\n",
       "    .dataframe tbody tr th:only-of-type {\n",
       "        vertical-align: middle;\n",
       "    }\n",
       "\n",
       "    .dataframe tbody tr th {\n",
       "        vertical-align: top;\n",
       "    }\n",
       "\n",
       "    .dataframe thead th {\n",
       "        text-align: right;\n",
       "    }\n",
       "</style>\n",
       "<table border=\"1\" class=\"dataframe\">\n",
       "  <thead>\n",
       "    <tr style=\"text-align: right;\">\n",
       "      <th></th>\n",
       "      <th>user_id</th>\n",
       "      <th>recency</th>\n",
       "      <th>frequency</th>\n",
       "      <th>monetary</th>\n",
       "      <th>rfm_segment</th>\n",
       "      <th>CLV</th>\n",
       "      <th>CLV_segment</th>\n",
       "    </tr>\n",
       "  </thead>\n",
       "  <tbody>\n",
       "    <tr>\n",
       "      <th>0</th>\n",
       "      <td>50049</td>\n",
       "      <td>83</td>\n",
       "      <td>10</td>\n",
       "      <td>8805.000100</td>\n",
       "      <td>2</td>\n",
       "      <td>828.705892</td>\n",
       "      <td>0</td>\n",
       "    </tr>\n",
       "    <tr>\n",
       "      <th>1</th>\n",
       "      <td>50511</td>\n",
       "      <td>51</td>\n",
       "      <td>11</td>\n",
       "      <td>16246.002100</td>\n",
       "      <td>2</td>\n",
       "      <td>1387.558898</td>\n",
       "      <td>0</td>\n",
       "    </tr>\n",
       "    <tr>\n",
       "      <th>2</th>\n",
       "      <td>54143</td>\n",
       "      <td>122</td>\n",
       "      <td>6</td>\n",
       "      <td>8896.003000</td>\n",
       "      <td>2</td>\n",
       "      <td>1112.000375</td>\n",
       "      <td>0</td>\n",
       "    </tr>\n",
       "    <tr>\n",
       "      <th>3</th>\n",
       "      <td>54556</td>\n",
       "      <td>27</td>\n",
       "      <td>11</td>\n",
       "      <td>9993.003000</td>\n",
       "      <td>2</td>\n",
       "      <td>933.198724</td>\n",
       "      <td>0</td>\n",
       "    </tr>\n",
       "    <tr>\n",
       "      <th>4</th>\n",
       "      <td>54811</td>\n",
       "      <td>147</td>\n",
       "      <td>9</td>\n",
       "      <td>11978.820068</td>\n",
       "      <td>2</td>\n",
       "      <td>2436.370183</td>\n",
       "      <td>0</td>\n",
       "    </tr>\n",
       "  </tbody>\n",
       "</table>\n",
       "</div>"
      ],
      "text/plain": [
       "   user_id  recency  frequency      monetary  rfm_segment          CLV  \\\n",
       "0    50049       83         10   8805.000100            2   828.705892   \n",
       "1    50511       51         11  16246.002100            2  1387.558898   \n",
       "2    54143      122          6   8896.003000            2  1112.000375   \n",
       "3    54556       27         11   9993.003000            2   933.198724   \n",
       "4    54811      147          9  11978.820068            2  2436.370183   \n",
       "\n",
       "   CLV_segment  \n",
       "0            0  \n",
       "1            0  \n",
       "2            0  \n",
       "3            0  \n",
       "4            0  "
      ]
     },
     "execution_count": 55,
     "metadata": {},
     "output_type": "execute_result"
    }
   ],
   "source": [
    "# Phân cụm cho RFM và CLV\n",
    "model=KMeans(n_clusters=4, random_state=2) # Lựa chọn k=3\n",
    "model.fit(data_final[['rfm_segment', 'CLV']])\n",
    "data_final['CLV_segment']=model.labels_\n",
    "data_final.head()"
   ]
  },
  {
   "cell_type": "code",
   "execution_count": 56,
   "id": "12e06b2d-29b8-4f16-a0ba-4f4920d9325c",
   "metadata": {},
   "outputs": [
    {
     "data": {
      "text/plain": [
       "''"
      ]
     },
     "execution_count": 56,
     "metadata": {},
     "output_type": "execute_result"
    },
    {
     "data": {
      "image/png": "[encoded data removed]",
      "text/plain": [
       "<Figure size 640x480 with 1 Axes>"
      ]
     },
     "metadata": {},
     "output_type": "display_data"
    }
   ],
   "source": [
    "# Visualize kết quả\n",
    "sns.scatterplot(data=data_final, x='rfm_segment', y='CLV', hue='CLV_segment', palette='bright')\n",
    "\n",
    "plt.xlabel('RFM Segment')\n",
    "plt.ylabel('Customer Lifetime Value')\n",
    "plt.title('Customer Lifetime Value Segment')\n",
    "plt.legend()\n",
    ";"
   ]
  },
  {
   "cell_type": "markdown",
   "id": "d7f36c81-d453-4fae-af8e-3da757f8e150",
   "metadata": {},
   "source": [
    "### 5. Xây dựng mô hình dự đoán phân khúc khách hàng"
   ]
  },
  {
   "cell_type": "code",
   "execution_count": 57,
   "id": "99c7a24f-2e13-4ec5-b804-b66d799da1b1",
   "metadata": {},
   "outputs": [],
   "source": [
    "# Encoding data\n",
    "data_final=pd.get_dummies(data_final, drop_first=True, dtype=int)"
   ]
  },
  {
   "cell_type": "code",
   "execution_count": 58,
   "id": "ea9ebb88-2876-40f1-a51e-6b8ae43ce6d0",
   "metadata": {},
   "outputs": [
    {
     "data": {
      "image/png": "[encoded data removed]",
      "text/plain": [
       "<Figure size 800x600 with 2 Axes>"
      ]
     },
     "metadata": {},
     "output_type": "display_data"
    }
   ],
   "source": [
    "# Phân tích tương quan\n",
    "plt.figure(figsize=(8,6))\n",
    "corr=data_final.drop(columns='user_id').corr()\n",
    "sns.heatmap(corr, annot=True);"
   ]
  },
  {
   "cell_type": "code",
   "execution_count": 59,
   "id": "8d5e62f3-9ca6-4682-812f-f6a0a015633d",
   "metadata": {},
   "outputs": [
    {
     "data": {
      "text/plain": [
       "CLV_segment\n",
       "0    333528\n",
       "2      4217\n",
       "1       953\n",
       "3       185\n",
       "Name: count, dtype: int64"
      ]
     },
     "execution_count": 59,
     "metadata": {},
     "output_type": "execute_result"
    }
   ],
   "source": [
    "# Thống kê phân khúc khách hàng\n",
    "data_final['CLV_segment'].value_counts()"
   ]
  },
  {
   "cell_type": "markdown",
   "id": "b75f8712-2058-4b47-8f3d-485f976bf0ba",
   "metadata": {},
   "source": [
    "Phần lớn khách hàng thuộc lớp 0 và các lớp khác chiếm số lượng rất ít. từ đó cho thấy dữ liệu bị mất cân bằng"
   ]
  },
  {
   "cell_type": "code",
   "execution_count": 70,
   "id": "e4a081fa-53d4-4627-a720-175a7784eefe",
   "metadata": {},
   "outputs": [],
   "source": [
    "# Chia train test\n",
    "from sklearn.model_selection import train_test_split\n",
    "\n",
    "x=data_final.drop(columns=['user_id', 'CLV_segment'])\n",
    "y=data_final['CLV_segment']\n",
    "\n",
    "x_train, x_test, y_train, y_test=train_test_split(x,y, test_size=0.25, random_state=1)"
   ]
  },
  {
   "cell_type": "code",
   "execution_count": 71,
   "id": "d5d8425f-2eff-47ff-83c3-01ab8758393b",
   "metadata": {},
   "outputs": [],
   "source": [
    "# Resampling data\n",
    "from imblearn.over_sampling import SMOTE\n",
    "smote=SMOTE()\n",
    "x_train_rs, y_train_rs=smote.fit_resample(x_train, y_train)"
   ]
  },
  {
   "cell_type": "code",
   "execution_count": 72,
   "id": "cd194f5b-e01b-4c1f-933f-d5bc09ae2b57",
   "metadata": {},
   "outputs": [
    {
     "name": "stdout",
     "output_type": "stream",
     "text": [
      "              precision    recall  f1-score   support\n",
      "\n",
      "           0       0.99      0.98      0.99     83388\n",
      "           1       0.21      0.24      0.23       206\n",
      "           2       0.29      0.55      0.38      1082\n",
      "           3       0.03      0.02      0.03        45\n",
      "\n",
      "    accuracy                           0.97     84721\n",
      "   macro avg       0.38      0.45      0.40     84721\n",
      "weighted avg       0.98      0.97      0.98     84721\n",
      "\n",
      "[[81920   126  1314    28]\n",
      " [   25    49   132     0]\n",
      " [  445    41   592     4]\n",
      " [   20    13    11     1]]\n"
     ]
    }
   ],
   "source": [
    "# Train model với data không resample\n",
    "from lightgbm import LGBMClassifier\n",
    "from sklearn.metrics import classification_report, confusion_matrix\n",
    "lgbm=LGBMClassifier(random_state=1, verbosity=-1)\n",
    "\n",
    "lgbm.fit(x_train, y_train)\n",
    "\n",
    "y_pred=lgbm.predict(x_test)\n",
    "\n",
    "print(classification_report(y_test, y_pred))\n",
    "print(confusion_matrix(y_test, y_pred))"
   ]
  },
  {
   "cell_type": "markdown",
   "id": "f9f59dcf-db4c-4853-9f55-cbe13980756a",
   "metadata": {},
   "source": [
    "Với data imbalanced, kết quả cho thấy mô hình dự đoán không tốt với các nhóm lớp 1, 2, 3 (chỉ số f1, precision, recall đều rất thấp), chỉ có lớp 0 chiếm đa số được dự đoán đúng nhiều nhất"
   ]
  },
  {
   "cell_type": "code",
   "execution_count": 73,
   "id": "ecaa0c18-b938-495a-a18e-ce159b473f90",
   "metadata": {},
   "outputs": [
    {
     "name": "stdout",
     "output_type": "stream",
     "text": [
      "              precision    recall  f1-score   support\n",
      "\n",
      "           0       1.00      1.00      1.00     83388\n",
      "           1       0.98      0.99      0.99       206\n",
      "           2       0.98      0.99      0.99      1082\n",
      "           3       0.98      0.98      0.98        45\n",
      "\n",
      "    accuracy                           1.00     84721\n",
      "   macro avg       0.99      0.99      0.99     84721\n",
      "weighted avg       1.00      1.00      1.00     84721\n",
      "\n",
      "[[83370     0    18     0]\n",
      " [    0   204     1     1]\n",
      " [    7     3  1072     0]\n",
      " [    0     1     0    44]]\n"
     ]
    }
   ],
   "source": [
    "# Thử với data đã resample\n",
    "lgbm.fit(x_train_rs, y_train_rs)\n",
    "\n",
    "y_pred_rs=lgbm.predict(x_test)\n",
    "\n",
    "print(classification_report(y_test, y_pred_rs))\n",
    "print(confusion_matrix(y_test, y_pred_rs))"
   ]
  },
  {
   "cell_type": "markdown",
   "id": "65ee8cd0-f94d-432d-ab0a-baff4e93bdfd",
   "metadata": {},
   "source": [
    "Với data sau khi đã upsampling, kết quả cho ra rất tốt"
   ]
  }
 ],
 "metadata": {
  "kernelspec": {
   "display_name": "Python 3 (ipykernel)",
   "language": "python",
   "name": "python3"
  },
  "language_info": {
   "codemirror_mode": {
    "name": "ipython",
    "version": 3
   },
   "file_extension": ".py",
   "mimetype": "text/x-python",
   "name": "python",
   "nbconvert_exporter": "python",
   "pygments_lexer": "ipython3",
   "version": "3.11.5"
  }
 },
 "nbformat": 4,
 "nbformat_minor": 5
}
